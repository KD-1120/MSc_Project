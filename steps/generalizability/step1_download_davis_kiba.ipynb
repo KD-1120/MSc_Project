{
 "cells": [
  {
   "cell_type": "markdown",
   "id": "2032392c",
   "metadata": {},
   "source": [
    "# Step 1: Download External Datasets (DAVIS, KIBA, DeepDTA)\n",
    "\n",
    "This notebook is part of the generalizability study. Here, we download and extract external benchmark datasets (DAVIS, KIBA, DeepDTA) for evaluating the performance of our trained model on unseen data.\n",
    "\n",
    "- **DAVIS** and **KIBA** are widely used for drug-target interaction prediction.\n",
    "- **DeepDTA** repository contains both datasets and useful scripts.\n",
    "\n",
    "The next steps will preprocess these datasets and evaluate the model's generalizability."
   ]
  },
  {
   "cell_type": "code",
   "execution_count": 1,
   "id": "af9055d6",
   "metadata": {},
   "outputs": [],
   "source": [
    "# step1_download_davis_kiba.py\n",
    "import os\n",
    "import urllib.request\n",
    "import zipfile"
   ]
  },
  {
   "cell_type": "code",
   "execution_count": 2,
   "id": "1c58614d",
   "metadata": {},
   "outputs": [
    {
     "name": "stdout",
     "output_type": "stream",
     "text": [
      "Downloading DeepDTA datasets...\n",
      "Extracting...\n",
      "Done. Files available in: data/external\\DeepDTA-master\n"
     ]
    }
   ],
   "source": [
    "\n",
    "def download_deepdta_datasets(base_dir=\"data/external\"):\n",
    "    os.makedirs(base_dir, exist_ok=True)\n",
    "    url = \"https://github.com/hkmztrk/DeepDTA/archive/refs/heads/master.zip\"\n",
    "    zip_path = os.path.join(base_dir, \"deepdta.zip\")\n",
    "    extract_path = os.path.join(base_dir, \"DeepDTA-master\")\n",
    "\n",
    "    print(\"Downloading DeepDTA datasets...\")\n",
    "    urllib.request.urlretrieve(url, zip_path)\n",
    "\n",
    "    print(\"Extracting...\")\n",
    "    with zipfile.ZipFile(zip_path, 'r') as zip_ref:\n",
    "        zip_ref.extractall(base_dir)\n",
    "\n",
    "    print(\"Done. Files available in:\", extract_path)\n",
    "\n",
    "if __name__ == \"__main__\":\n",
    "    download_deepdta_datasets()\n"
   ]
  }
 ],
 "metadata": {
  "kernelspec": {
   "display_name": ".venv",
   "language": "python",
   "name": "python3"
  },
  "language_info": {
   "codemirror_mode": {
    "name": "ipython",
    "version": 3
   },
   "file_extension": ".py",
   "mimetype": "text/x-python",
   "name": "python",
   "nbconvert_exporter": "python",
   "pygments_lexer": "ipython3",
   "version": "3.12.6"
  }
 },
 "nbformat": 4,
 "nbformat_minor": 5
}
