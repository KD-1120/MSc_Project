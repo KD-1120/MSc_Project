{
 "cells": [
  {
   "cell_type": "markdown",
   "id": "59be7e0c",
   "metadata": {},
   "source": [
    "# Fetch SMILES for Each Kinase Inhibitor\n",
    "# We'll:\n",
    "1. Read step1_kinase_inhibitors_raw.csv\n",
    "2. Get canonical SMILES for each molecule_chembl_id using the ChEMBL API\n",
    "3. Save: chembl_id, canonical_smiles"
   ]
  },
  {
   "cell_type": "code",
   "execution_count": 1,
   "id": "3ac6b2cd",
   "metadata": {},
   "outputs": [],
   "source": [
    "#Import Packages\n",
    "import pandas as pd\n",
    "import requests\n",
    "import time\n",
    "from tqdm import tqdm\n",
    "import os"
   ]
  },
  {
   "cell_type": "code",
   "execution_count": 4,
   "id": "09c2bd93",
   "metadata": {},
   "outputs": [],
   "source": [
    "def fetch_smiles(molecule_ids, delay=1.0):\n",
    "    base_url = \"https://www.ebi.ac.uk/chembl/api/data/molecule/{}\"\n",
    "    headers = {\"Accept\": \"application/json\"}\n",
    "    smiles_data = []\n",
    "\n",
    "    for mol_id in tqdm(molecule_ids, desc=\"Fetching SMILES\"):\n",
    "        url = base_url.format(mol_id)\n",
    "        try:\n",
    "            r = requests.get(url, headers=headers, timeout=10)\n",
    "            if r.status_code != 200:\n",
    "                print(f\"Skipped {mol_id} (HTTP {r.status_code})\")\n",
    "                continue\n",
    "\n",
    "            try:\n",
    "                mol_data = r.json()\n",
    "            except Exception as e:\n",
    "                print(f\"Invalid JSON for {mol_id}: {e}\")\n",
    "                continue\n",
    "\n",
    "            smiles = mol_data.get(\"molecule_structures\", {}).get(\"canonical_smiles\")\n",
    "            pref_name = mol_data.get(\"pref_name\") or \"Unknown\"\n",
    "\n",
    "            if smiles:\n",
    "                smiles_data.append({\n",
    "                    \"molecule_chembl_id\": mol_id,\n",
    "                    \"canonical_smiles\": smiles,\n",
    "                    \"pref_name\": pref_name\n",
    "                })\n",
    "        except Exception as e:\n",
    "            print(f\"Error fetching {mol_id}: {e}\")\n",
    "\n",
    "        time.sleep(delay)\n",
    "\n",
    "    return pd.DataFrame(smiles_data)\n"
   ]
  },
  {
   "cell_type": "code",
   "execution_count": 5,
   "id": "c9cb8d9e",
   "metadata": {},
   "outputs": [
    {
     "name": "stderr",
     "output_type": "stream",
     "text": [
      "Fetching SMILES:  16%|█▌        | 1649/10587 [46:05<3:59:08,  1.61s/it]"
     ]
    },
    {
     "name": "stdout",
     "output_type": "stream",
     "text": [
      "Error fetching CHEMBL4084193: 'NoneType' object has no attribute 'get'\n"
     ]
    },
    {
     "name": "stderr",
     "output_type": "stream",
     "text": [
      "Fetching SMILES:  95%|█████████▍| 10045/10587 [4:35:59<14:03,  1.56s/it] "
     ]
    },
    {
     "name": "stdout",
     "output_type": "stream",
     "text": [
      "Error fetching CHEMBL208800: HTTPSConnectionPool(host='www.ebi.ac.uk', port=443): Read timed out. (read timeout=10)\n"
     ]
    },
    {
     "name": "stderr",
     "output_type": "stream",
     "text": [
      "Fetching SMILES: 100%|█████████▉| 10550/10587 [5:43:09<01:05,  1.76s/it]     "
     ]
    },
    {
     "name": "stdout",
     "output_type": "stream",
     "text": [
      "Error fetching CHEMBL5200347: 'NoneType' object has no attribute 'get'\n"
     ]
    },
    {
     "name": "stderr",
     "output_type": "stream",
     "text": [
      "Fetching SMILES: 100%|██████████| 10587/10587 [5:44:11<00:00,  1.95s/it]"
     ]
    },
    {
     "name": "stdout",
     "output_type": "stream",
     "text": [
      "\n",
      "✓ SMILES for 10584 molecules saved to 'data/step2_kinase_inhibitors_smiles.csv'\n"
     ]
    },
    {
     "name": "stderr",
     "output_type": "stream",
     "text": [
      "\n"
     ]
    }
   ],
   "source": [
    "if __name__ == \"__main__\":\n",
    "    os.makedirs(\"data\", exist_ok=True)\n",
    "\n",
    "    # Load the kinase inhibitors data\n",
    "    kinase_inhibitors_df = pd.read_csv(\"data/step1_kinase_inhibitors_raw.csv\")\n",
    "    molecule_ids = kinase_inhibitors_df[\"molecule_chembl_id\"].unique()\n",
    "\n",
    "    # Fetch SMILES for each molecule\n",
    "    smiles_df = fetch_smiles(molecule_ids)\n",
    "    if not smiles_df.empty:\n",
    "        # Save the results\n",
    "        smiles_df.to_csv(\"data/step2_kinase_inhibitors_smiles.csv\", index=False)\n",
    "        print(f\"\\n✓ SMILES for {len(smiles_df)} molecules saved to 'data/step2_kinase_inhibitors_smiles.csv'\")\n",
    "    else:\n",
    "        print(\"No SMILES data fetched.\")\n"
   ]
  }
 ],
 "metadata": {
  "kernelspec": {
   "display_name": ".venv",
   "language": "python",
   "name": "python3"
  },
  "language_info": {
   "codemirror_mode": {
    "name": "ipython",
    "version": 3
   },
   "file_extension": ".py",
   "mimetype": "text/x-python",
   "name": "python",
   "nbconvert_exporter": "python",
   "pygments_lexer": "ipython3",
   "version": "3.12.6"
  }
 },
 "nbformat": 4,
 "nbformat_minor": 5
}
