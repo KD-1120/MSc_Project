{
 "cells": [
  {
   "cell_type": "markdown",
   "id": "49a76f9e",
   "metadata": {},
   "source": [
    "# Create Drug–Target Pair Dataset\n",
    "Build a dataset of samples where each row is:\n",
    "- (drug_graph, target_embedding) → binding_label\n"
   ]
  },
  {
   "cell_type": "code",
   "execution_count": 1,
   "id": "8898b555",
   "metadata": {},
   "outputs": [],
   "source": [
    "#Import Libraries\n",
    "import pandas as pd\n",
    "import os"
   ]
  },
  {
   "cell_type": "code",
   "execution_count": 3,
   "id": "4d756a75",
   "metadata": {},
   "outputs": [
    {
     "name": "stdout",
     "output_type": "stream",
     "text": [
      "Loading data...\n",
      "✓ Saved 10584 drug-target pairs to ../data/step6_training_pairs.csv\n"
     ]
    }
   ],
   "source": [
    "# Function to prepare the drug-target pair dataset\n",
    "# This function reads the activity data and protein embeddings, filters them based on certain criteria,\n",
    "def prepare_pair_dataset(\n",
    "    activity_file=\"../data/step1_kinase_inhibitors_raw.csv\",\n",
    "    protein_embeddings_file=\"../data/step4_onehot_embeddings.csv\",\n",
    "    output_file=\"../data/step6_training_pairs.csv\",\n",
    "    ic50_cutoff=1000  # nM (1 µM)\n",
    "):\n",
    "    print(\"Loading data...\")\n",
    "\n",
    "    # Load files\n",
    "    df = pd.read_csv(activity_file)\n",
    "    protein_df = pd.read_csv(protein_embeddings_file)\n",
    "\n",
    "    # Drop missing values\n",
    "    df = df.dropna(subset=[\"activity_value\", \"target_chembl_id\", \"molecule_chembl_id\"])\n",
    "    df = df[df[\"activity_type\"].isin([\"IC50\", \"Ki\", \"Kd\"])]  # Only keep these\n",
    "\n",
    "    # Create binary label\n",
    "    df[\"label\"] = df[\"activity_value\"].apply(lambda x: 1 if float(x) < ic50_cutoff else 0)\n",
    "\n",
    "    # Keep only valid protein IDs that we have embeddings for\n",
    "    # Extract ChEMBL IDs from the protein embeddings (format: P00519|CHEMBL1862|Tyrosine-protein)\n",
    "    protein_df[\"chembl_id\"] = protein_df[\"id\"].str.split(\"|\").str[1]\n",
    "    valid_proteins = set(protein_df[\"chembl_id\"])\n",
    "    df = df[df[\"target_chembl_id\"].isin(valid_proteins)]\n",
    "\n",
    "    # Keep only drugs for which we have graphs\n",
    "    available_drug_ids = set(f.replace(\".pt\", \"\") for f in os.listdir(\"../data/graphs/\") if f.endswith(\".pt\"))\n",
    "    df = df[df[\"molecule_chembl_id\"].isin(available_drug_ids)]\n",
    "\n",
    "    # Final cleaned pair dataset\n",
    "    pair_df = df[[\"molecule_chembl_id\", \"target_chembl_id\", \"label\"]].drop_duplicates()\n",
    "    pair_df.columns = [\"drug_id\", \"target_id\", \"label\"]\n",
    "\n",
    "    os.makedirs(\"data\", exist_ok=True)\n",
    "    pair_df.to_csv(output_file, index=False)\n",
    "    print(f\"✓ Saved {len(pair_df)} drug-target pairs to {output_file}\")\n",
    "\n",
    "    return pair_df\n",
    "\n",
    "# Run the function\n",
    "if __name__ == \"__main__\":\n",
    "    prepare_pair_dataset()\n"
   ]
  }
 ],
 "metadata": {
  "kernelspec": {
   "display_name": ".venv",
   "language": "python",
   "name": "python3"
  },
  "language_info": {
   "codemirror_mode": {
    "name": "ipython",
    "version": 3
   },
   "file_extension": ".py",
   "mimetype": "text/x-python",
   "name": "python",
   "nbconvert_exporter": "python",
   "pygments_lexer": "ipython3",
   "version": "3.12.6"
  }
 },
 "nbformat": 4,
 "nbformat_minor": 5
}
