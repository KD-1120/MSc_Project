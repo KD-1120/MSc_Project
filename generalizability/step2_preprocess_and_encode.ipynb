{
 "cells": [
  {
   "cell_type": "markdown",
   "id": "0a1bde2b",
   "metadata": {},
   "source": [
    "# Step 2: Preprocess and Encode DAVIS/KIBA Datasets\n",
    "\n",
    "In this notebook, we will preprocess the DAVIS and KIBA datasets and generate protein embeddings using both your custom one-hot encoding and ProtBERT.\n",
    "\n",
    "**Workflow:**\n",
    "- Load DAVIS and KIBA datasets from the extracted DeepDTA folder.\n",
    "- Clean and format protein sequences and drug SMILES as needed.\n",
    "- Apply your custom one-hot encoding to all protein sequences.\n",
    "- Apply ProtBERT embedding to all protein sequences.\n",
    "- Save the resulting embeddings for downstream evaluation.\n",
    "\n",
    "---"
   ]
  },
  {
   "cell_type": "code",
   "execution_count": 1,
   "id": "b653086f",
   "metadata": {},
   "outputs": [],
   "source": [
    "# Import required libraries\n",
    "import os\n",
    "import pandas as pd\n",
    "# Add any other imports needed for preprocessing and encoding"
   ]
  },
  {
   "cell_type": "markdown",
   "id": "8f23da2a",
   "metadata": {},
   "source": [
    "## 1. Load DAVIS and KIBA datasets\n",
    "Replace the file paths below with the correct locations if needed."
   ]
  },
  {
   "cell_type": "code",
   "execution_count": null,
   "id": "f4b5ff18",
   "metadata": {},
   "outputs": [],
   "source": [
    "davis_path = 'data/external/DeepDTA-master/data/DAVIS/'\n",
    "kiba_path = 'data/external/DeepDTA-master/data/KIBA/'\n",
    "davis_df = pd.read_csv(os.path.join(davis_path, 'davis.csv'))\n",
    "kiba_df = pd.read_csv(os.path.join(kiba_path, 'kiba.csv'))"
   ]
  },
  {
   "cell_type": "markdown",
   "id": "ee36c5b9",
   "metadata": {},
   "source": [
    "## 2. Preprocess protein sequences and drug SMILES\n",
    "- Clean sequences (remove invalid characters, pad/crop, etc.)\n",
    "- Prepare for encoding"
   ]
  },
  {
   "cell_type": "code",
   "execution_count": null,
   "id": "9e64e3ba",
   "metadata": {},
   "outputs": [],
   "source": [
    "# Your preprocessing code here"
   ]
  },
  {
   "cell_type": "markdown",
   "id": "b4ec770f",
   "metadata": {},
   "source": [
    "## 3. Generate custom one-hot encodings\n",
    "Apply your one-hot encoding function to all protein sequences."
   ]
  },
  {
   "cell_type": "code",
   "execution_count": null,
   "id": "5c6879b7",
   "metadata": {},
   "outputs": [],
   "source": [
    "# Example: one_hot_embeddings = [your_one_hot_encode(seq) for seq in protein_sequences]"
   ]
  },
  {
   "cell_type": "markdown",
   "id": "02e9c7be",
   "metadata": {},
   "source": [
    "## 4. Generate ProtBERT embeddings\n",
    "Apply ProtBERT to all protein sequences.\n",
    "\n",
    "*Tip: Use the HuggingFace Transformers library for ProtBERT.*"
   ]
  },
  {
   "cell_type": "code",
   "execution_count": null,
   "id": "6b2fef48",
   "metadata": {},
   "outputs": [],
   "source": [
    "# Example: Use transformers to load ProtBERT and generate embeddings\n",
    "# from transformers import BertModel, BertTokenizer\n",
    "# ..."
   ]
  },
  {
   "cell_type": "markdown",
   "id": "d7c13965",
   "metadata": {},
   "source": [
    "## 5. Save embeddings for downstream evaluation\n",
    "Save both one-hot and ProtBERT embeddings for use in the evaluation notebook."
   ]
  },
  {
   "cell_type": "code",
   "execution_count": null,
   "id": "e0e996c8",
   "metadata": {},
   "outputs": [],
   "source": [
    "# Example: Save embeddings as .csv or .npy\n",
    "# pd.DataFrame(one_hot_embeddings).to_csv('davis_onehot_embeddings.csv', index=False)\n",
    "# pd.DataFrame(protbert_embeddings).to_csv('davis_protbert_embeddings.csv', index=False)"
   ]
  }
 ],
 "metadata": {
  "kernelspec": {
   "display_name": ".venv",
   "language": "python",
   "name": "python3"
  },
  "language_info": {
   "codemirror_mode": {
    "name": "ipython",
    "version": 3
   },
   "file_extension": ".py",
   "mimetype": "text/x-python",
   "name": "python",
   "nbconvert_exporter": "python",
   "pygments_lexer": "ipython3",
   "version": "3.12.6"
  }
 },
 "nbformat": 4,
 "nbformat_minor": 5
}
