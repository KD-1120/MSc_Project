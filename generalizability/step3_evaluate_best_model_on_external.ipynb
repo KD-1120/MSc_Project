{
 "cells": [
  {
   "cell_type": "markdown",
   "id": "d068e640",
   "metadata": {},
   "source": [
    "# Step 3: Evaluate Best Model on External Datasets (DAVIS/KIBA)\n",
    "\n",
    "In this notebook, we will evaluate the generalizability of our best trained model by testing it on the external DAVIS and KIBA datasets using both custom one-hot and ProtBERT embeddings.\n",
    "\n",
    "**Workflow:**\n",
    "- Load the best trained model.\n",
    "- Load preprocessed and encoded DAVIS/KIBA datasets (from previous step).\n",
    "- Run inference and compute performance metrics (e.g., MSE, Pearson/Spearman correlation, etc.).\n",
    "- Compare results for one-hot vs. ProtBERT embeddings.\n",
    "\n",
    "---"
   ]
  },
  {
   "cell_type": "code",
   "execution_count": null,
   "id": "65a67e93",
   "metadata": {},
   "outputs": [],
   "source": [
    "# Import required libraries\n",
    "import os\n",
    "import torch\n",
    "import pandas as pd\n",
    "# Add any other imports needed for model loading and evaluation"
   ]
  },
  {
   "cell_type": "markdown",
   "id": "bf9c17dd",
   "metadata": {},
   "source": [
    "## 1. Load the best trained model\n",
    "Update the path below to your best model checkpoint."
   ]
  },
  {
   "cell_type": "code",
   "execution_count": null,
   "id": "84434c85",
   "metadata": {},
   "outputs": [],
   "source": [
    "# Example: Load model\n",
    "model_path = '../models/best_drug_target_model.pth'\n",
    "# model = torch.load(model_path)\n",
    "# model.eval()"
   ]
  },
  {
   "cell_type": "markdown",
   "id": "11267c9f",
   "metadata": {},
   "source": [
    "## 2. Load external dataset embeddings\n",
    "Load the one-hot and ProtBERT embeddings generated in the previous step."
   ]
  },
  {
   "cell_type": "code",
   "execution_count": null,
   "id": "be125369",
   "metadata": {},
   "outputs": [],
   "source": [
    "# Example: Load embeddings\n",
    "# davis_onehot = pd.read_csv('davis_onehot_embeddings.csv')\n",
    "# davis_protbert = pd.read_csv('davis_protbert_embeddings.csv')\n",
    "# kiba_onehot = pd.read_csv('kiba_onehot_embeddings.csv')\n",
    "# kiba_protbert = pd.read_csv('kiba_protbert_embeddings.csv')"
   ]
  },
  {
   "cell_type": "markdown",
   "id": "a77e35e6",
   "metadata": {},
   "source": [
    "## 3. Run inference and evaluate performance\n",
    "- Predict on DAVIS and KIBA using both embedding types.\n",
    "- Compute relevant metrics (e.g., MSE, Pearson/Spearman correlation)."
   ]
  },
  {
   "cell_type": "code",
   "execution_count": null,
   "id": "e13d4b96",
   "metadata": {},
   "outputs": [],
   "source": [
    "# Your inference and evaluation code here"
   ]
  },
  {
   "cell_type": "markdown",
   "id": "cc32e003",
   "metadata": {},
   "source": [
    "## 4. Compare and summarize results\n",
    "Summarize and visualize the generalizability of your model for both embedding types."
   ]
  },
  {
   "cell_type": "code",
   "execution_count": null,
   "id": "4aab8f48",
   "metadata": {},
   "outputs": [],
   "source": [
    "# Example: Create summary tables and plots"
   ]
  }
 ],
 "metadata": {
  "language_info": {
   "name": "python"
  }
 },
 "nbformat": 4,
 "nbformat_minor": 5
}
