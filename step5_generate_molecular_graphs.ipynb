{
 "cells": [
  {
   "cell_type": "code",
   "execution_count": 3,
   "id": "29e44405",
   "metadata": {},
   "outputs": [],
   "source": [
    "import pandas as pd\n",
    "import torch\n",
    "import os\n",
    "from rdkit import Chem\n",
    "from rdkit.Chem import rdchem\n",
    "from tqdm import tqdm\n",
    "from torch_geometric.data import Data"
   ]
  },
  {
   "cell_type": "code",
   "execution_count": 6,
   "id": "c1f02447",
   "metadata": {},
   "outputs": [
    {
     "name": "stderr",
     "output_type": "stream",
     "text": [
      "Creating graphs:   0%|          | 0/10584 [00:00<?, ?it/s]"
     ]
    },
    {
     "name": "stderr",
     "output_type": "stream",
     "text": [
      "Creating graphs: 100%|██████████| 10584/10584 [01:24<00:00, 125.68it/s]"
     ]
    },
    {
     "name": "stdout",
     "output_type": "stream",
     "text": [
      "✓ Saved 10584 molecular graphs to data/graphs/\n"
     ]
    },
    {
     "name": "stderr",
     "output_type": "stream",
     "text": [
      "\n"
     ]
    }
   ],
   "source": [
    "# Define atom features\n",
    "def atom_features(atom):\n",
    "    return torch.tensor([\n",
    "        atom.GetAtomicNum(),\n",
    "        atom.GetFormalCharge(),\n",
    "        int(atom.GetIsAromatic()),\n",
    "        atom.GetHybridization().real,\n",
    "        atom.GetDegree(),\n",
    "        atom.GetTotalNumHs()\n",
    "    ], dtype=torch.float)\n",
    "\n",
    "# Define bond features\n",
    "def bond_features(bond):\n",
    "    return torch.tensor([\n",
    "        int(bond.GetBondTypeAsDouble()),  # Single=1.0, Double=2.0, etc.\n",
    "        int(bond.GetIsConjugated()),\n",
    "        int(bond.IsInRing())\n",
    "    ], dtype=torch.float)\n",
    "\n",
    "# Convert SMILES to PyG graph\n",
    "def smiles_to_graph(smiles, mol_id):\n",
    "    mol = Chem.MolFromSmiles(smiles)\n",
    "    if mol is None:\n",
    "        return None\n",
    "\n",
    "    # Node features\n",
    "    x = torch.stack([atom_features(atom) for atom in mol.GetAtoms()])\n",
    "\n",
    "    # Edge indices and features\n",
    "    edge_index = []\n",
    "    edge_attr = []\n",
    "\n",
    "    for bond in mol.GetBonds():\n",
    "        i = bond.GetBeginAtomIdx()\n",
    "        j = bond.GetEndAtomIdx()\n",
    "        f = bond_features(bond)\n",
    "\n",
    "        # Undirected edge (i <-> j)\n",
    "        edge_index += [[i, j], [j, i]]\n",
    "        edge_attr += [f, f]\n",
    "\n",
    "    edge_index = torch.tensor(edge_index, dtype=torch.long).t().contiguous()\n",
    "    edge_attr = torch.stack(edge_attr)\n",
    "\n",
    "    return Data(x=x, edge_index=edge_index, edge_attr=edge_attr, smiles=smiles, mol_id=mol_id)\n",
    "\n",
    "# Main function\n",
    "def generate_graphs(smiles_csv=\"data/step2_kinase_inhibitors_smiles.csv\", output_dir=\"data/graphs/\"):\n",
    "    os.makedirs(output_dir, exist_ok=True)\n",
    "\n",
    "    df = pd.read_csv(smiles_csv)\n",
    "    saved = 0\n",
    "\n",
    "    for _, row in tqdm(df.iterrows(), total=len(df), desc=\"Creating graphs\"):\n",
    "        smiles = row[\"canonical_smiles\"]\n",
    "        mol_id = row[\"molecule_chembl_id\"]\n",
    "        data = smiles_to_graph(smiles, mol_id)\n",
    "\n",
    "        if data:\n",
    "            torch.save(data, os.path.join(output_dir, f\"{mol_id}.pt\"))\n",
    "            saved += 1\n",
    "\n",
    "    print(f\"✓ Saved {saved} molecular graphs to {output_dir}\")\n",
    "\n",
    "# Run it\n",
    "if __name__ == \"__main__\":\n",
    "    generate_graphs()\n"
   ]
  },
  {
   "cell_type": "code",
   "execution_count": 8,
   "id": "75b11c45",
   "metadata": {},
   "outputs": [
    {
     "name": "stdout",
     "output_type": "stream",
     "text": [
      "Data(x=[27, 6], edge_index=[2, 60], edge_attr=[60, 3], smiles='C[S+]([O-])c1ccc(-c2nc(-c3ccc(F)cc3)c(-c3ccncc3)[nH]2)cc1', mol_id='CHEMBL10')\n"
     ]
    }
   ],
   "source": [
    "data = torch.load(\"data/graphs/CHEMBL10.pt\", weights_only=False)\n",
    "print(data)"
   ]
  }
 ],
 "metadata": {
  "kernelspec": {
   "display_name": ".venv",
   "language": "python",
   "name": "python3"
  },
  "language_info": {
   "codemirror_mode": {
    "name": "ipython",
    "version": 3
   },
   "file_extension": ".py",
   "mimetype": "text/x-python",
   "name": "python",
   "nbconvert_exporter": "python",
   "pygments_lexer": "ipython3",
   "version": "3.12.6"
  }
 },
 "nbformat": 4,
 "nbformat_minor": 5
}
